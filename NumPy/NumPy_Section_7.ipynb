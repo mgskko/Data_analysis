{
 "cells": [
  {
   "cell_type": "code",
   "execution_count": 1,
   "id": "163c63da",
   "metadata": {},
   "outputs": [],
   "source": [
    "import numpy as np"
   ]
  },
  {
   "cell_type": "markdown",
   "id": "83ca610b",
   "metadata": {},
   "source": [
    "예제1 원소가 모두 3인(3, 4, 5)형태의 numpy.array를 출력하시오"
   ]
  },
  {
   "cell_type": "code",
   "execution_count": 5,
   "id": "40b4012d",
   "metadata": {},
   "outputs": [
    {
     "name": "stdout",
     "output_type": "stream",
     "text": [
      "[[[3 3 3 3 3]\n",
      "  [3 3 3 3 3]\n",
      "  [3 3 3 3 3]\n",
      "  [3 3 3 3 3]]\n",
      "\n",
      " [[3 3 3 3 3]\n",
      "  [3 3 3 3 3]\n",
      "  [3 3 3 3 3]\n",
      "  [3 3 3 3 3]]\n",
      "\n",
      " [[3 3 3 3 3]\n",
      "  [3 3 3 3 3]\n",
      "  [3 3 3 3 3]\n",
      "  [3 3 3 3 3]]]\n"
     ]
    }
   ],
   "source": [
    "arr = np.full([3, 4, 5], 3)\n",
    "print(arr)"
   ]
  },
  {
   "cell_type": "markdown",
   "id": "182b8017",
   "metadata": {},
   "source": [
    "에제2 정수 -50~50의 범위 안의 난수로 이루어진 (4,5)형태의 numpy.array를 출력하고 행을 기준으로 오름차순 정렬한 전체 배열을 1차원 배열로 변경하여 오름차순 정렬한 결과를 출력하시오."
   ]
  },
  {
   "cell_type": "code",
   "execution_count": 9,
   "id": "769e4d5c",
   "metadata": {},
   "outputs": [
    {
     "name": "stdout",
     "output_type": "stream",
     "text": [
      "[[-46 -13  11  33  47]\n",
      " [-19 -15  -2   7  22]\n",
      " [-31  -8  11  22  35]\n",
      " [-43 -35 -27  12  28]]\n",
      "[-46 -43 -35 -31 -27 -19 -15 -13  -8  -2   7  11  11  12  22  22  28  33\n",
      "  35  47]\n"
     ]
    }
   ],
   "source": [
    "arr = np.random.randint(-50, 50, (4,5))\n",
    "print(np.sort(arr, axis=1))\n",
    "print(np.sort(arr, axis=None))"
   ]
  },
  {
   "cell_type": "markdown",
   "id": "68dece19",
   "metadata": {},
   "source": [
    "예제3 다음과 같은 파이썬 list가 존재한다. list안에 있는 각 numpy.array의 원소들의 평균값과 표준편차, 중앙값을 순서대로 구하여 구한 순서대로 원소가 이루어진 새로운list를 구성하고 출력하시오.\n",
    " 예시 : 각 배열의 평균값이 3.0,4.0,5.0이고 표준편차가 1.5,1.7,1.9이며 중앙값이 1.0,2.0,3.0이라면 배열로 구성하여 [3.0,4.0,5.0,1.5,1.7,1.9,1.0,2.0,3.0]으로 출력한다."
   ]
  },
  {
   "cell_type": "code",
   "execution_count": 10,
   "id": "31313719",
   "metadata": {},
   "outputs": [
    {
     "name": "stdout",
     "output_type": "stream",
     "text": [
      "[array([8, 8, 8]), array([ 33, -15,  26]), array([17. , 21.5, 26. ])]\n"
     ]
    }
   ],
   "source": [
    "py_list = [\n",
    "    np.full(3, 8),\n",
    "    np.array([33, -15, 26]),\n",
    "    np.linspace(17, 26, 3)\n",
    "]\n",
    "print(py_list)"
   ]
  },
  {
   "cell_type": "code",
   "execution_count": 13,
   "id": "676fe0e1",
   "metadata": {},
   "outputs": [
    {
     "name": "stdout",
     "output_type": "stream",
     "text": [
      "[8.0, 0.0, 8.0, 14.666666666666666, 21.171259344267224, 26.0, 21.5, 3.6742346141747673, 21.5]\n"
     ]
    }
   ],
   "source": [
    "result = []\n",
    "for i in py_list:\n",
    "    result.append(np.mean(i))\n",
    "    result.append(np.std(i))\n",
    "    result.append(np.median(i))\n",
    "print(result)"
   ]
  },
  {
   "cell_type": "code",
   "execution_count": 15,
   "id": "cde90e50",
   "metadata": {},
   "outputs": [],
   "source": [
    "arr = np.arange(2, 20, 2).reshape((3, 3))"
   ]
  },
  {
   "cell_type": "code",
   "execution_count": 16,
   "id": "1729f5e8",
   "metadata": {},
   "outputs": [
    {
     "name": "stdout",
     "output_type": "stream",
     "text": [
      "[[ 2  4  6]\n",
      " [ 8 10 12]\n",
      " [14 16 18]]\n"
     ]
    }
   ],
   "source": [
    "print(arr)"
   ]
  },
  {
   "cell_type": "markdown",
   "id": "f8f0200f",
   "metadata": {},
   "source": [
    "예제4 다음과 같은 np.array가 존재한다. 이 배열을 행을 기준으로 3개의 배열로 분할하여 분할된 각 배열의 원소들을 제곱한 결과를 다시 원본 배열에 행을 기준으로 병합하시오."
   ]
  },
  {
   "cell_type": "code",
   "execution_count": 22,
   "id": "b95556ec",
   "metadata": {},
   "outputs": [
    {
     "name": "stdout",
     "output_type": "stream",
     "text": [
      "[array([[2, 4, 6]]), array([[ 8, 10, 12]]), array([[14, 16, 18]])]\n",
      "[[[  4  16  36]]\n",
      "\n",
      " [[ 64 100 144]]\n",
      "\n",
      " [[196 256 324]]]\n",
      "[[  4  16  36]\n",
      " [ 64 100 144]\n",
      " [196 256 324]]\n",
      "[[  2   4   6]\n",
      " [  8  10  12]\n",
      " [ 14  16  18]\n",
      " [  4  16  36]\n",
      " [ 64 100 144]\n",
      " [196 256 324]]\n"
     ]
    }
   ],
   "source": [
    "arr_vsplit = np.vsplit(arr,3)\n",
    "print(arr_vsplit)\n",
    "s2 = np.square(arr_vsplit)\n",
    "print(s2)\n",
    "s3 = np.squeeze(s2,axis = 1)\n",
    "print(s3)\n",
    "result = np.vstack((arr, s3))\n",
    "print(result)"
   ]
  },
  {
   "cell_type": "markdown",
   "id": "50f06b41",
   "metadata": {},
   "source": [
    "예제5 삼각함수의 특수각(0, 30, 60, 90)을 numpy.array로 생성한 후 특수각에 해당하는 sin,cos,tan 값을 각각 구하여 파이썬 list에 담은 다음 해당 list에 들어있는 값들을 출력하시오(단, 값이 무한대라면 \"INF\" 문자열을 출력할 것)"
   ]
  },
  {
   "cell_type": "code",
   "execution_count": 9,
   "id": "fec30cbf",
   "metadata": {},
   "outputs": [
    {
     "name": "stdout",
     "output_type": "stream",
     "text": [
      "[ 0 30 60 90]\n",
      "0.0\n",
      "0.49999999999999994\n",
      "0.8660254037844386\n",
      "1.0\n",
      "\n",
      "1.0\n",
      "0.8660254037844387\n",
      "0.5000000000000001\n",
      "6.123233995736766e-17\n",
      "\n",
      "0.0\n",
      "0.5773502691896257\n",
      "1.7320508075688767\n",
      "INF\n",
      "\n"
     ]
    }
   ],
   "source": [
    "arr = np.arange(0, 91, 30)\n",
    "print(arr)\n",
    "\n",
    "lst = []\n",
    "lst.append(np.sin(arr * np.pi / 180))\n",
    "lst.append(np.cos(arr * np.pi / 180))\n",
    "lst.append(np.tan(arr * np.pi / 180))\n",
    "\n",
    "for value_lst in lst:\n",
    "    for value in value_lst:\n",
    "        if value > 9999999:\n",
    "            print('INF')\n",
    "            continue;\n",
    "        print(value)\n",
    "    print()"
   ]
  },
  {
   "cell_type": "markdown",
   "id": "c4c5e3dd",
   "metadata": {},
   "source": [
    "예제6 numpy.array를 이용하여 다음과 같은 패턴을 출력하시오"
   ]
  },
  {
   "cell_type": "code",
   "execution_count": 27,
   "id": "6e39e3ee",
   "metadata": {},
   "outputs": [
    {
     "name": "stdout",
     "output_type": "stream",
     "text": [
      "0 1 0 1 0 1 0 \n",
      "1 0 1 0 1 0 1 \n",
      "0 1 0 1 0 1 0 \n",
      "1 0 1 0 1 0 1 \n",
      "0 1 0 1 0 1 0 \n",
      "1 0 1 0 1 0 1 \n",
      "0 1 0 1 0 1 0 \n"
     ]
    }
   ],
   "source": [
    "arr = np.zeros((7, 7), dtype=int)\n",
    "arr[::2,1::2] = 1\n",
    "arr[1::2,::2] = 1\n",
    "\n",
    "for row in range(7):\n",
    "    for col in range(7):\n",
    "        print(arr[row, col],end =\" \")\n",
    "    print()\n"
   ]
  },
  {
   "cell_type": "markdown",
   "id": "57db5f33",
   "metadata": {},
   "source": [
    "예제7 다음 두 행렬에 대하여 내적 연산을 수행한 결괏값을 출력하시오.\n",
    "(단, 결과의 소수점 아래는 제거한다.)"
   ]
  },
  {
   "cell_type": "code",
   "execution_count": 28,
   "id": "f4580498",
   "metadata": {},
   "outputs": [],
   "source": [
    "arr1 = np.array([[2.1, 3.5],\n",
    "                 [4.2, 2.7], \n",
    "                 [2.3, 1.9]])\n",
    "arr2 = np.array([[5, 2, 3],\n",
    "                 [1, 3, 5]])"
   ]
  },
  {
   "cell_type": "code",
   "execution_count": 29,
   "id": "7caf315a",
   "metadata": {},
   "outputs": [
    {
     "name": "stdout",
     "output_type": "stream",
     "text": [
      "[[14. 14. 23.]\n",
      " [23. 16. 26.]\n",
      " [13. 10. 16.]]\n"
     ]
    }
   ],
   "source": [
    "print(np.trunc(np.dot(arr1, arr2)))"
   ]
  },
  {
   "cell_type": "markdown",
   "id": "79dec855",
   "metadata": {},
   "source": [
    "예제8 조건 연산자를 활용한 Boolean 인덱싱을 이용하여 다음 배열의 원소들 중 2와 5의 배수만 추출한 결과를 오름차순 정렬하여 (2, 4) 행렬로 출력하시오."
   ]
  },
  {
   "cell_type": "code",
   "execution_count": 31,
   "id": "13f0ec45",
   "metadata": {},
   "outputs": [],
   "source": [
    "arr = np.array([[1, 2, 3, 4],\n",
    "                [5, 6, 7, 8],\n",
    "                [9, 10, 11, 12]])"
   ]
  },
  {
   "cell_type": "code",
   "execution_count": 36,
   "id": "bc0d4608",
   "metadata": {},
   "outputs": [
    {
     "name": "stdout",
     "output_type": "stream",
     "text": [
      "[[ 2  4  5  6]\n",
      " [ 8 10 10 12]]\n"
     ]
    }
   ],
   "source": [
    "print(np.sort(np.append(arr[arr % 2 == 0],arr[arr % 5 == 0])).reshape(2, 4))"
   ]
  },
  {
   "cell_type": "markdown",
   "id": "8dbe97e5",
   "metadata": {},
   "source": [
    "예제9 10진수 100이상 150미만 사이에 존재하는 정수를 무작위로 추출하여 (3, 10)형태의 행렬로 만들고 행과 열을 전치한 결과를 출력하시오."
   ]
  },
  {
   "cell_type": "code",
   "execution_count": 39,
   "id": "91f8e7d8",
   "metadata": {},
   "outputs": [
    {
     "name": "stdout",
     "output_type": "stream",
     "text": [
      "[[114 137 110]\n",
      " [146 104 132]\n",
      " [115 109 124]\n",
      " [135 126 145]\n",
      " [123 128 122]\n",
      " [112 126 137]\n",
      " [130 113 109]\n",
      " [107 111 100]\n",
      " [107 139 132]\n",
      " [125 129 131]]\n"
     ]
    }
   ],
   "source": [
    "arr = np.random.randint(100, 150, (3,10))\n",
    "print(arr.T)"
   ]
  },
  {
   "cell_type": "markdown",
   "id": "bc495482",
   "metadata": {},
   "source": [
    "예제10 10진수 10~20사이에 존재하는 실수형의 수를 무작위로 10000개 추출하여 100개의 구간에 그래프로 시각화하시오.(단,무작위 실수값은 균등한 비율로 추출해야 하며 그래프 시각화 도구는 pyplot모듈을 사용할것)"
   ]
  },
  {
   "cell_type": "code",
   "execution_count": 44,
   "id": "3bda7dac",
   "metadata": {},
   "outputs": [
    {
     "data": {
      "image/png": "[encoded data removed]",
      "text/plain": [
       "<Figure size 432x288 with 1 Axes>"
      ]
     },
     "metadata": {
      "needs_background": "light"
     },
     "output_type": "display_data"
    }
   ],
   "source": [
    "import matplotlib.pyplot as plt\n",
    "randoms =10 +  np.random.rand(10000) * 10\n",
    "plt.hist(randoms, bins=100)\n",
    "plt.show()"
   ]
  },
  {
   "cell_type": "code",
   "execution_count": null,
   "id": "3686712b",
   "metadata": {},
   "outputs": [],
   "source": []
  }
 ],
 "metadata": {
  "kernelspec": {
   "display_name": "Python 3 (ipykernel)",
   "language": "python",
   "name": "python3"
  },
  "language_info": {
   "codemirror_mode": {
    "name": "ipython",
    "version": 3
   },
   "file_extension": ".py",
   "mimetype": "text/x-python",
   "name": "python",
   "nbconvert_exporter": "python",
   "pygments_lexer": "ipython3",
   "version": "3.9.12"
  }
 },
 "nbformat": 4,
 "nbformat_minor": 5
}
