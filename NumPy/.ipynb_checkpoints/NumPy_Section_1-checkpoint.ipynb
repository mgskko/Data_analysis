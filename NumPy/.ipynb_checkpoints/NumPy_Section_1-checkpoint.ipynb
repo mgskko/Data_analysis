{
 "cells": [
  {
   "cell_type": "code",
   "execution_count": 1,
   "id": "e0191362",
   "metadata": {},
   "outputs": [],
   "source": [
    "import numpy as np"
   ]
  },
  {
   "cell_type": "code",
   "execution_count": 2,
   "id": "46465822",
   "metadata": {},
   "outputs": [],
   "source": [
    "#1차원 배열\n",
    "arr = np.array([1,2,3])"
   ]
  },
  {
   "cell_type": "code",
   "execution_count": 4,
   "id": "5328bc0c",
   "metadata": {},
   "outputs": [
    {
     "name": "stdout",
     "output_type": "stream",
     "text": [
      "[1 2 3]\n"
     ]
    }
   ],
   "source": [
    "print(arr)"
   ]
  },
  {
   "cell_type": "code",
   "execution_count": 5,
   "id": "0a265c40",
   "metadata": {},
   "outputs": [],
   "source": [
    "#2차원 배열\n",
    "arr_2 = np.array([[1,2,3],\n",
    "                 [4,5,6]])"
   ]
  },
  {
   "cell_type": "code",
   "execution_count": 7,
   "id": "18731e9e",
   "metadata": {},
   "outputs": [
    {
     "name": "stdout",
     "output_type": "stream",
     "text": [
      "[[1 2 3]\n",
      " [4 5 6]]\n"
     ]
    }
   ],
   "source": [
    "print(arr_2)"
   ]
  },
  {
   "cell_type": "code",
   "execution_count": 8,
   "id": "72d28f6b",
   "metadata": {},
   "outputs": [
    {
     "name": "stdout",
     "output_type": "stream",
     "text": [
      "[4 5 6]\n"
     ]
    }
   ],
   "source": [
    "tpl = (4,5,6)\n",
    "arr = np.array(tpl)\n",
    "print(arr)"
   ]
  },
  {
   "cell_type": "code",
   "execution_count": 10,
   "id": "e7f87b89",
   "metadata": {},
   "outputs": [
    {
     "name": "stdout",
     "output_type": "stream",
     "text": [
      "[1 2 3]\n"
     ]
    }
   ],
   "source": [
    "lst = [1,2,3]\n",
    "arr = np.array(lst)\n",
    "print(arr)"
   ]
  },
  {
   "cell_type": "code",
   "execution_count": 14,
   "id": "910cbf67",
   "metadata": {},
   "outputs": [
    {
     "name": "stdout",
     "output_type": "stream",
     "text": [
      "(3,) (2, 3)\n",
      "1 2\n",
      "3 6\n"
     ]
    }
   ],
   "source": [
    "# shape\n",
    "arr1 = np.array([1,2,3])\n",
    "arr2 = np.array([[1,2,3],\n",
    "               [4,5,6]])\n",
    "print(arr1.shape, arr2.shape)\n",
    "\n",
    "#ndim\n",
    "print(arr1.ndim, arr2.ndim)\n",
    "\n",
    "#size\n",
    "print(arr1.size, arr2.size)"
   ]
  },
  {
   "cell_type": "code",
   "execution_count": 15,
   "id": "562e63b5",
   "metadata": {},
   "outputs": [
    {
     "name": "stdout",
     "output_type": "stream",
     "text": [
      "[1 2 3] int32\n"
     ]
    },
    {
     "name": "stderr",
     "output_type": "stream",
     "text": [
      "C:\\Users\\anyone\\AppData\\Local\\Temp\\ipykernel_1868\\895961622.py:2: DeprecationWarning: `np.int` is a deprecated alias for the builtin `int`. To silence this warning, use `int` by itself. Doing this will not modify any behavior and is safe. When replacing `np.int`, you may wish to use e.g. `np.int64` or `np.int32` to specify the precision. If you wish to review your current use, check the release note link for additional information.\n",
      "Deprecated in NumPy 1.20; for more details and guidance: https://numpy.org/devdocs/release/1.20.0-notes.html#deprecations\n",
      "  arr = np.array([1.1, 2.2, 3.3], dtype = np.int)\n"
     ]
    }
   ],
   "source": [
    "# N차원 배열의 데이터 타입\n",
    "arr = np.array([1.1, 2.2, 3.3], dtype = np.int)\n",
    "print(arr, arr.dtype)"
   ]
  },
  {
   "cell_type": "code",
   "execution_count": 16,
   "id": "d0fbebd5",
   "metadata": {},
   "outputs": [
    {
     "name": "stdout",
     "output_type": "stream",
     "text": [
      "[False  True  True] bool\n"
     ]
    },
    {
     "name": "stderr",
     "output_type": "stream",
     "text": [
      "C:\\Users\\anyone\\AppData\\Local\\Temp\\ipykernel_1868\\2740016620.py:1: DeprecationWarning: `np.bool` is a deprecated alias for the builtin `bool`. To silence this warning, use `bool` by itself. Doing this will not modify any behavior and is safe. If you specifically wanted the numpy scalar type, use `np.bool_` here.\n",
      "Deprecated in NumPy 1.20; for more details and guidance: https://numpy.org/devdocs/release/1.20.0-notes.html#deprecations\n",
      "  arr = np.array([0, 1, 1], dtype = np.bool)\n"
     ]
    }
   ],
   "source": [
    "arr = np.array([0, 1, 1], dtype = np.bool)\n",
    "print(arr, arr.dtype)"
   ]
  },
  {
   "cell_type": "code",
   "execution_count": 17,
   "id": "8afc30e4",
   "metadata": {},
   "outputs": [],
   "source": [
    "#정해진 형식의 N차원 배열 생성하기"
   ]
  },
  {
   "cell_type": "code",
   "execution_count": 22,
   "id": "d75e8219",
   "metadata": {},
   "outputs": [
    {
     "name": "stdout",
     "output_type": "stream",
     "text": [
      "[[0. 0.]\n",
      " [0. 0.]]\n",
      "[[1. 1. 1.]\n",
      " [1. 1. 1.]\n",
      " [1. 1. 1.]]\n",
      "[[5 5 5]\n",
      " [5 5 5]]\n",
      "[[0. 1. 0. 0.]\n",
      " [0. 0. 1. 0.]\n",
      " [0. 0. 0. 1.]]\n"
     ]
    }
   ],
   "source": [
    "#np.zeros()\n",
    "arr = np.zeros([2,2])\n",
    "print(arr)\n",
    "\n",
    "#np.ones()\n",
    "arr_ones = np.ones([3,3])\n",
    "print(arr_ones)\n",
    "\n",
    "#np.full()\n",
    "arr = np.full((2,3), 5)\n",
    "print(arr)\n",
    "\n",
    "#np.eye()\n",
    "arr = np.eye(3,4, k=1)\n",
    "print(arr)"
   ]
  },
  {
   "cell_type": "code",
   "execution_count": 27,
   "id": "1f3761c9",
   "metadata": {},
   "outputs": [
    {
     "name": "stdout",
     "output_type": "stream",
     "text": [
      "[[0 0 0]\n",
      " [0 0 0]]\n",
      "[[1 1 1]\n",
      " [1 1 1]]\n",
      "[[9 9 9]\n",
      " [9 9 9]]\n"
     ]
    }
   ],
   "source": [
    "arr = np.array([[1,2,3],\n",
    "              [4,5,6]])\n",
    "\n",
    "#np.zeros_like()\n",
    "arr_z = np.zeros_like(arr)\n",
    "print(arr_z)\n",
    "\n",
    "#np.ones_like()\n",
    "arr_o = np.ones_like(arr)\n",
    "print(arr_o)\n",
    "\n",
    "#np.full_like()\n",
    "arr_f = np.full_like(arr, 9)\n",
    "print(arr_f)"
   ]
  },
  {
   "cell_type": "code",
   "execution_count": 28,
   "id": "ac9ffb25",
   "metadata": {},
   "outputs": [],
   "source": [
    "#특정 범위의 값을 가지는 N차원 배열 생성하기"
   ]
  },
  {
   "cell_type": "code",
   "execution_count": 29,
   "id": "450cac0c",
   "metadata": {},
   "outputs": [
    {
     "name": "stdout",
     "output_type": "stream",
     "text": [
      "[0, 2, 4, 6, 8]\n"
     ]
    }
   ],
   "source": [
    "lst = list(range(0,9,2))\n",
    "print(lst)"
   ]
  },
  {
   "cell_type": "code",
   "execution_count": 32,
   "id": "0f8b5177",
   "metadata": {},
   "outputs": [
    {
     "name": "stdout",
     "output_type": "stream",
     "text": [
      "[0 1 2 3 4 5 6 7 8]\n",
      "[ 3  4  5  6  7  8  9 10 11]\n"
     ]
    }
   ],
   "source": [
    "arr = np.arange(9)\n",
    "print(arr)\n",
    "\n",
    "arr = np.arange(3,12)\n",
    "print(arr)"
   ]
  },
  {
   "cell_type": "code",
   "execution_count": 37,
   "id": "92148528",
   "metadata": {},
   "outputs": [
    {
     "name": "stdout",
     "output_type": "stream",
     "text": [
      "[  0.  10.  20.  30.  40.  50.  60.  70.  80.  90. 100.]\n"
     ]
    }
   ],
   "source": [
    "#np.linspace()\n",
    "\n",
    "arr= np.linspace(0,100,11)\n",
    "print(arr)"
   ]
  },
  {
   "cell_type": "code",
   "execution_count": 38,
   "id": "a711f92e",
   "metadata": {},
   "outputs": [
    {
     "name": "stdout",
     "output_type": "stream",
     "text": [
      "[   2.    4.    8.   16.   32.   64.  128.  256.  512. 1024.]\n"
     ]
    }
   ],
   "source": [
    "# np.logspace\n",
    "\n",
    "arr = np.logspace(1,10,10, base = 2)\n",
    "print(arr)"
   ]
  },
  {
   "cell_type": "code",
   "execution_count": 39,
   "id": "958dd1c7",
   "metadata": {},
   "outputs": [],
   "source": [
    "#난수로 N차원 배열 생성하기"
   ]
  },
  {
   "cell_type": "code",
   "execution_count": 40,
   "id": "4f304a3d",
   "metadata": {},
   "outputs": [],
   "source": [
    "import matplotlib.pyplot as plt"
   ]
  },
  {
   "cell_type": "code",
   "execution_count": 42,
   "id": "164d7d1b",
   "metadata": {},
   "outputs": [
    {
     "name": "stdout",
     "output_type": "stream",
     "text": [
      "[[-1.24546831  1.20890891  1.15209052]\n",
      " [ 0.5104032  -0.75814125 -0.38225588]]\n"
     ]
    }
   ],
   "source": [
    "# np.random.normal()\n",
    "\n",
    "arr = np.random.normal(0,1,(2,3))\n",
    "print(arr)"
   ]
  },
  {
   "cell_type": "code",
   "execution_count": 44,
   "id": "9e48806e",
   "metadata": {},
   "outputs": [
    {
     "data": {
      "image/png": "[encoded data removed]",
      "text/plain": [
       "<Figure size 432x288 with 1 Axes>"
      ]
     },
     "metadata": {
      "needs_background": "light"
     },
     "output_type": "display_data"
    }
   ],
   "source": [
    "arr = np.random.normal(0,1,100000)\n",
    "plt.hist(arr, bins = 100)\n",
    "plt.show()"
   ]
  },
  {
   "cell_type": "code",
   "execution_count": 45,
   "id": "0357629f",
   "metadata": {},
   "outputs": [
    {
     "data": {
      "image/png": "[encoded data removed]",
      "text/plain": [
       "<Figure size 432x288 with 1 Axes>"
      ]
     },
     "metadata": {
      "needs_background": "light"
     },
     "output_type": "display_data"
    }
   ],
   "source": [
    "#np.random.rand()\n",
    "arr = np.random.rand(1000)\n",
    "plt.hist(arr, bins=100)\n",
    "plt.show()"
   ]
  },
  {
   "cell_type": "code",
   "execution_count": 46,
   "id": "71bbcd64",
   "metadata": {},
   "outputs": [
    {
     "data": {
      "image/png": "[encoded data removed]",
      "text/plain": [
       "<Figure size 432x288 with 1 Axes>"
      ]
     },
     "metadata": {
      "needs_background": "light"
     },
     "output_type": "display_data"
    }
   ],
   "source": [
    "#np.random.randn()\n",
    "\n",
    "arr = np.random.randn(1000)\n",
    "plt.hist(arr, bins=100)\n",
    "plt.show()"
   ]
  },
  {
   "cell_type": "code",
   "execution_count": 51,
   "id": "3c99eb77",
   "metadata": {},
   "outputs": [
    {
     "name": "stdout",
     "output_type": "stream",
     "text": [
      "[[1 2 2 3]\n",
      " [4 4 3 1]\n",
      " [4 4 4 3]]\n"
     ]
    }
   ],
   "source": [
    "#np.random.randint()\n",
    "\n",
    "arr = np.random.randint(low = 1, high=5, size =(3,4))\n",
    "print(arr)"
   ]
  },
  {
   "cell_type": "code",
   "execution_count": 52,
   "id": "9f676ecf",
   "metadata": {},
   "outputs": [],
   "source": [
    "#시드(Seed)값을 통한 난수 생성 제어"
   ]
  },
  {
   "cell_type": "code",
   "execution_count": 53,
   "id": "3f26e850",
   "metadata": {},
   "outputs": [
    {
     "name": "stdout",
     "output_type": "stream",
     "text": [
      "난수 발생1 \n",
      " [0.45491471 0.6041517  0.61246931 0.02452997 0.73239606 0.26834274\n",
      " 0.58600875 0.44998443 0.46883105 0.09554426]\n",
      "난수 발생2 \n",
      " [0.41694036 0.89054729 0.90520859 0.25846352 0.48874049 0.87961506\n",
      " 0.45237182 0.22057977 0.99742483 0.25695013]\n"
     ]
    }
   ],
   "source": [
    "arr = np.random.rand(10)\n",
    "print(\"난수 발생1 \\n\", arr)\n",
    "\n",
    "arr = np.random.rand(10)\n",
    "print(\"난수 발생2 \\n\", arr)"
   ]
  },
  {
   "cell_type": "code",
   "execution_count": 55,
   "id": "3cea58cf",
   "metadata": {},
   "outputs": [
    {
     "name": "stdout",
     "output_type": "stream",
     "text": [
      "난수 발생1 \n",
      " [4.17022005e-01 7.20324493e-01 1.14374817e-04 3.02332573e-01\n",
      " 1.46755891e-01 9.23385948e-02 1.86260211e-01 3.45560727e-01\n",
      " 3.96767474e-01 5.38816734e-01]\n",
      "난수 발생2 \n",
      " [4.17022005e-01 7.20324493e-01 1.14374817e-04 3.02332573e-01\n",
      " 1.46755891e-01 9.23385948e-02 1.86260211e-01 3.45560727e-01\n",
      " 3.96767474e-01 5.38816734e-01]\n"
     ]
    }
   ],
   "source": [
    "np.random.seed(1)\n",
    "arr = np.random.rand(10)\n",
    "print(\"난수 발생1 \\n\", arr)\n",
    "\n",
    "np.random.seed(1)\n",
    "arr = np.random.rand(10)\n",
    "print(\"난수 발생2 \\n\", arr)"
   ]
  },
  {
   "cell_type": "markdown",
   "id": "74eb9704",
   "metadata": {},
   "source": [
    "Section 2. N차원배열 인덱싱\n",
    "2-1 배열의 index 접근하기"
   ]
  },
  {
   "cell_type": "code",
   "execution_count": 5,
   "id": "aebf77ae",
   "metadata": {},
   "outputs": [
    {
     "name": "stdout",
     "output_type": "stream",
     "text": [
      "3\n"
     ]
    }
   ],
   "source": [
    "# 1차원 배열\n",
    "arr = np.array([0, 1, 2, 3, 4, 5, 6, 7, 8, 9])\n",
    "arr = np.arange(10)\n",
    "print(arr[3])"
   ]
  },
  {
   "cell_type": "markdown",
   "id": "6bd4bd1e",
   "metadata": {},
   "source": [
    "2-2 배열의 fancy 인덱싱"
   ]
  },
  {
   "cell_type": "code",
   "execution_count": 9,
   "id": "a083954d",
   "metadata": {},
   "outputs": [
    {
     "name": "stdout",
     "output_type": "stream",
     "text": [
      "[ 5 15 25]\n"
     ]
    }
   ],
   "source": [
    "# 1차원 배열\n",
    "arr = np.array([5, 10, 15, 20, 25, 30])\n",
    "print(arr[[0, 2, 4]])"
   ]
  },
  {
   "cell_type": "code",
   "execution_count": 10,
   "id": "b4447ff8",
   "metadata": {},
   "outputs": [
    {
     "name": "stdout",
     "output_type": "stream",
     "text": [
      "[[15 20]\n",
      " [55 60]]\n"
     ]
    }
   ],
   "source": [
    "#2차원 배열\n",
    "arr = np.array([[5, 10, 15, 20],\n",
    "              [25, 30, 35, 40],\n",
    "              [45, 50, 55, 60]])\n",
    "print(arr[[0,2], 2:])"
   ]
  },
  {
   "cell_type": "code",
   "execution_count": 13,
   "id": "85b227f7",
   "metadata": {},
   "outputs": [
    {
     "name": "stdout",
     "output_type": "stream",
     "text": [
      "[35]\n"
     ]
    }
   ],
   "source": [
    "# 35를 뽑고 싶은 경우\n",
    "print(arr[[1],[2]])"
   ]
  },
  {
   "cell_type": "markdown",
   "id": "77a2e0f1",
   "metadata": {},
   "source": [
    "2-3 배열의 Boolean 인덱싱"
   ]
  },
  {
   "cell_type": "code",
   "execution_count": 16,
   "id": "8d675f88",
   "metadata": {},
   "outputs": [
    {
     "name": "stdout",
     "output_type": "stream",
     "text": [
      "[1 3 4]\n",
      "[[1 2 3 4]]\n"
     ]
    }
   ],
   "source": [
    "arr = np.array([1, 2, 3, 4])\n",
    "print(arr[[True, False, True, True]])\n",
    "\n",
    "arr = np.array([[1, 2, 3, 4],\n",
    "               [5, 6, 7, 8]])\n",
    "print(arr[[True,False],True])"
   ]
  },
  {
   "cell_type": "code",
   "execution_count": 18,
   "id": "b55f68ec",
   "metadata": {},
   "outputs": [
    {
     "name": "stdout",
     "output_type": "stream",
     "text": [
      "[4 5 6 7 8]\n"
     ]
    }
   ],
   "source": [
    "arr = np.array([[1, 2, 3, 4],\n",
    "               [5, 6, 7, 8]])\n",
    "print(arr[arr > 3])"
   ]
  },
  {
   "cell_type": "markdown",
   "id": "551cf4b3",
   "metadata": {},
   "source": [
    "Section 3. N차원 배열 연산법\n",
    "3-1. 배열의 연산1: 사칙연산/제곱/제곱근/몫/나머지"
   ]
  },
  {
   "cell_type": "code",
   "execution_count": 20,
   "id": "e709ecff",
   "metadata": {},
   "outputs": [],
   "source": [
    "arr1 = np.array([[1, 2, 3],\n",
    "                [4, 5, 6],\n",
    "                [7, 8, 9]])\n",
    "arr2 = np.array([[2, 2, 2],\n",
    "                [2, 2, 2],\n",
    "                [2, 2, 2]])"
   ]
  },
  {
   "cell_type": "code",
   "execution_count": 21,
   "id": "eff8af3b",
   "metadata": {},
   "outputs": [
    {
     "name": "stdout",
     "output_type": "stream",
     "text": [
      "[[2 2 2]\n",
      " [2 2 2]\n",
      " [2 2 2]]\n"
     ]
    }
   ],
   "source": [
    "print(arr2)"
   ]
  },
  {
   "cell_type": "code",
   "execution_count": 24,
   "id": "dbb1e858",
   "metadata": {},
   "outputs": [
    {
     "name": "stdout",
     "output_type": "stream",
     "text": [
      "[[ 3  4  5]\n",
      " [ 6  7  8]\n",
      " [ 9 10 11]]\n",
      "[[ 3  4  5]\n",
      " [ 6  7  8]\n",
      " [ 9 10 11]]\n"
     ]
    }
   ],
   "source": [
    "# 덧셈\n",
    "print(arr1 + arr2)\n",
    "print(np.add(arr1,arr2))"
   ]
  },
  {
   "cell_type": "code",
   "execution_count": 25,
   "id": "b0640e88",
   "metadata": {},
   "outputs": [
    {
     "name": "stdout",
     "output_type": "stream",
     "text": [
      "[[-1  0  1]\n",
      " [ 2  3  4]\n",
      " [ 5  6  7]]\n",
      "[[-1  0  1]\n",
      " [ 2  3  4]\n",
      " [ 5  6  7]]\n"
     ]
    }
   ],
   "source": [
    "# 뺄셈\n",
    "print(arr1 - arr2)\n",
    "print(np.subtract(arr1,arr2))"
   ]
  },
  {
   "cell_type": "code",
   "execution_count": 26,
   "id": "3aebc89f",
   "metadata": {},
   "outputs": [
    {
     "name": "stdout",
     "output_type": "stream",
     "text": [
      "[[ 2  4  6]\n",
      " [ 8 10 12]\n",
      " [14 16 18]]\n",
      "[[ 2  4  6]\n",
      " [ 8 10 12]\n",
      " [14 16 18]]\n"
     ]
    }
   ],
   "source": [
    "# 곱셈\n",
    "print(arr1 * arr2)\n",
    "print(np.multiply(arr1,arr2))"
   ]
  },
  {
   "cell_type": "code",
   "execution_count": 27,
   "id": "7760d54c",
   "metadata": {},
   "outputs": [
    {
     "name": "stdout",
     "output_type": "stream",
     "text": [
      "[[0.5 1.  1.5]\n",
      " [2.  2.5 3. ]\n",
      " [3.5 4.  4.5]]\n",
      "[[0.5 1.  1.5]\n",
      " [2.  2.5 3. ]\n",
      " [3.5 4.  4.5]]\n"
     ]
    }
   ],
   "source": [
    "# 나눗셈\n",
    "print(arr1 / arr2)\n",
    "print(np.divide(arr1,arr2))"
   ]
  },
  {
   "cell_type": "code",
   "execution_count": 28,
   "id": "e1dca211",
   "metadata": {},
   "outputs": [
    {
     "name": "stdout",
     "output_type": "stream",
     "text": [
      "[[ 1  4  9]\n",
      " [16 25 36]\n",
      " [49 64 81]]\n",
      "[[ 1  4  9]\n",
      " [16 25 36]\n",
      " [49 64 81]]\n"
     ]
    }
   ],
   "source": [
    "# 제곱\n",
    "print(arr1 ** 2)\n",
    "print(np.square(arr1))"
   ]
  },
  {
   "cell_type": "code",
   "execution_count": 29,
   "id": "e55a3519",
   "metadata": {},
   "outputs": [
    {
     "name": "stdout",
     "output_type": "stream",
     "text": [
      "[[1.         1.41421356 1.73205081]\n",
      " [2.         2.23606798 2.44948974]\n",
      " [2.64575131 2.82842712 3.        ]]\n"
     ]
    }
   ],
   "source": [
    "# 제곱근\n",
    "print(np.sqrt(arr1))"
   ]
  },
  {
   "cell_type": "code",
   "execution_count": 30,
   "id": "9d8d99b0",
   "metadata": {},
   "outputs": [
    {
     "name": "stdout",
     "output_type": "stream",
     "text": [
      "[[0 1 1]\n",
      " [2 2 3]\n",
      " [3 4 4]]\n"
     ]
    }
   ],
   "source": [
    "# 몫\n",
    "print(arr1 // 2)"
   ]
  },
  {
   "cell_type": "code",
   "execution_count": 31,
   "id": "fd095d84",
   "metadata": {},
   "outputs": [
    {
     "name": "stdout",
     "output_type": "stream",
     "text": [
      "[[1 0 1]\n",
      " [0 1 0]\n",
      " [1 0 1]]\n"
     ]
    }
   ],
   "source": [
    "# 몫\n",
    "print(arr1 % 2)"
   ]
  },
  {
   "cell_type": "markdown",
   "id": "701fb75a",
   "metadata": {},
   "source": [
    "3-2. 배열의 연산2: 내적(dot product)/절댓값/올림/내림/반올림/버림"
   ]
  },
  {
   "cell_type": "code",
   "execution_count": 32,
   "id": "3c0bcd2c",
   "metadata": {},
   "outputs": [
    {
     "name": "stdout",
     "output_type": "stream",
     "text": [
      "20\n"
     ]
    }
   ],
   "source": [
    "# 1차원 행렬\n",
    "arr1 = np.array([2, 3, 4])\n",
    "arr2 = np.array([1, 2, 3])\n",
    "\n",
    "print(np.dot(arr1,arr2))"
   ]
  },
  {
   "cell_type": "code",
   "execution_count": 34,
   "id": "d213055e",
   "metadata": {},
   "outputs": [
    {
     "name": "stdout",
     "output_type": "stream",
     "text": [
      "[[ 1  8]\n",
      " [ 4 23]]\n"
     ]
    }
   ],
   "source": [
    "# 2차원 행렬\n",
    "\n",
    "arr1 = np.array([[1, 2],\n",
    "                 [4, 5]])\n",
    "arr2 = np.array([[1, 2],\n",
    "                 [0, 3]])\n",
    "\n",
    "print(np.dot(arr1,arr2))"
   ]
  },
  {
   "cell_type": "code",
   "execution_count": 36,
   "id": "50af1ebe",
   "metadata": {},
   "outputs": [
    {
     "name": "stdout",
     "output_type": "stream",
     "text": [
      "[[1 2]\n",
      " [4 5]]\n"
     ]
    }
   ],
   "source": [
    "# 절댓값\n",
    "arr1 = np.array([[1, -2],\n",
    "                 [-4, 5]])\n",
    "\n",
    "print(np.abs(arr1))"
   ]
  },
  {
   "cell_type": "code",
   "execution_count": 37,
   "id": "6437e186",
   "metadata": {},
   "outputs": [
    {
     "name": "stdout",
     "output_type": "stream",
     "text": [
      "[[ 2. -2.]\n",
      " [-4.  6.]]\n",
      "[[ 1. -3.]\n",
      " [-5.  5.]]\n",
      "[[ 2. -2.]\n",
      " [-4.  5.]]\n",
      "[[ 1. -2.]\n",
      " [-4.  5.]]\n"
     ]
    }
   ],
   "source": [
    "# 올림\n",
    "arr1 = np.array([[1.932, -2.339],\n",
    "                [-4.145,5.206]])\n",
    "\n",
    "print(np.ceil(arr1))\n",
    "\n",
    "# 내림\n",
    "print(np.floor(arr1))\n",
    "\n",
    "# 반올림\n",
    "print(np.round(arr1))\n",
    "\n",
    "# 버림\n",
    "print(np.trunc(arr1))"
   ]
  },
  {
   "cell_type": "markdown",
   "id": "0cd2d5b7",
   "metadata": {},
   "source": [
    "3-3. 배열의 연산3: min/max/sum/mean/std/cumsum/median"
   ]
  },
  {
   "cell_type": "code",
   "execution_count": 39,
   "id": "40f7b6cc",
   "metadata": {},
   "outputs": [],
   "source": [
    "arr = np.array([[1, 2, 3],\n",
    "                [0, 1, 4]])"
   ]
  },
  {
   "cell_type": "code",
   "execution_count": 41,
   "id": "7d96aae4",
   "metadata": {},
   "outputs": [
    {
     "name": "stdout",
     "output_type": "stream",
     "text": [
      "0\n",
      "0\n",
      "[1 0]\n"
     ]
    }
   ],
   "source": [
    "# min()\n",
    "print(np.min(arr))\n",
    "print(arr.min())\n",
    "print(arr.min(axis=1))"
   ]
  },
  {
   "cell_type": "code",
   "execution_count": 42,
   "id": "7fe72393",
   "metadata": {},
   "outputs": [
    {
     "name": "stdout",
     "output_type": "stream",
     "text": [
      "4\n",
      "4\n",
      "[3 4]\n"
     ]
    }
   ],
   "source": [
    "# max()\n",
    "print(np.max(arr))\n",
    "print(arr.max())\n",
    "print(arr.max(axis=1))"
   ]
  },
  {
   "cell_type": "code",
   "execution_count": 44,
   "id": "86f192a6",
   "metadata": {},
   "outputs": [
    {
     "name": "stdout",
     "output_type": "stream",
     "text": [
      "11\n",
      "[6 5]\n"
     ]
    }
   ],
   "source": [
    "# sum()\n",
    "print(np.sum(arr))\n",
    "print(arr.sum(axis=1))"
   ]
  },
  {
   "cell_type": "code",
   "execution_count": 48,
   "id": "6f373f63",
   "metadata": {},
   "outputs": [
    {
     "name": "stdout",
     "output_type": "stream",
     "text": [
      "1.8333333333333333\n",
      "[2.         1.66666667]\n"
     ]
    }
   ],
   "source": [
    "# mean()\n",
    "print(np.mean(arr))\n",
    "print(arr.mean(axis=1))"
   ]
  },
  {
   "cell_type": "code",
   "execution_count": 49,
   "id": "3d5a05a9",
   "metadata": {},
   "outputs": [
    {
     "name": "stdout",
     "output_type": "stream",
     "text": [
      "1.343709624716425\n",
      "[0.81649658 1.69967317]\n"
     ]
    }
   ],
   "source": [
    "# std()\n",
    "print(np.std(arr))\n",
    "print(arr.std(axis=1))"
   ]
  },
  {
   "cell_type": "code",
   "execution_count": 50,
   "id": "e04691c8",
   "metadata": {},
   "outputs": [
    {
     "name": "stdout",
     "output_type": "stream",
     "text": [
      "[ 1  3  6  6  7 11]\n",
      "[[1 3 6]\n",
      " [0 1 5]]\n"
     ]
    }
   ],
   "source": [
    "# cumsum()\n",
    "print(np.cumsum(arr))\n",
    "print(arr.cumsum(axis=1))"
   ]
  },
  {
   "cell_type": "code",
   "execution_count": 51,
   "id": "9bd65aaf",
   "metadata": {},
   "outputs": [
    {
     "name": "stdout",
     "output_type": "stream",
     "text": [
      "1.5\n"
     ]
    }
   ],
   "source": [
    "# median()\n",
    "print(np.median(arr))"
   ]
  },
  {
   "cell_type": "markdown",
   "id": "fb2ab909",
   "metadata": {},
   "source": [
    "3-5. 브로드캐스팅"
   ]
  },
  {
   "cell_type": "code",
   "execution_count": 2,
   "id": "9aec8c0a",
   "metadata": {},
   "outputs": [
    {
     "name": "stdout",
     "output_type": "stream",
     "text": [
      "[[5 6 7]\n",
      " [6 7 8]\n",
      " [7 8 9]]\n"
     ]
    }
   ],
   "source": [
    "arr1 = np.array([[0, 0, 0],\n",
    "                 [1, 1, 1],\n",
    "                 [2, 2, 2]])\n",
    "arr2 = np.array([5, 6, 7])\n",
    "\n",
    "print(arr1 + arr2)"
   ]
  },
  {
   "cell_type": "code",
   "execution_count": 3,
   "id": "69a8682b",
   "metadata": {},
   "outputs": [
    {
     "name": "stdout",
     "output_type": "stream",
     "text": [
      "[[1 1 1]\n",
      " [2 2 2]\n",
      " [3 3 3]]\n"
     ]
    }
   ],
   "source": [
    "arr1 = np.array([[1, 1, 1]])\n",
    "arr2 = np.array([[0],\n",
    "                 [1],\n",
    "                 [2]])\n",
    "print(arr1 + arr2)"
   ]
  },
  {
   "cell_type": "markdown",
   "id": "7b0749c0",
   "metadata": {},
   "source": [
    "Section 4. N차원 배열 정렬\n",
    "4-1. 1차원 배열의 정렬"
   ]
  },
  {
   "cell_type": "code",
   "execution_count": 4,
   "id": "fcf7ddc7",
   "metadata": {},
   "outputs": [
    {
     "name": "stdout",
     "output_type": "stream",
     "text": [
      "[1 5 9 9 2 3 4 9 9 9]\n"
     ]
    }
   ],
   "source": [
    "arr = np.random.randint(10, size=10)\n",
    "print(arr)"
   ]
  },
  {
   "cell_type": "code",
   "execution_count": 6,
   "id": "b3922f43",
   "metadata": {},
   "outputs": [
    {
     "name": "stdout",
     "output_type": "stream",
     "text": [
      "[1 2 3 4 5 9 9 9 9 9]\n",
      "[9 9 9 9 9 5 4 3 2 1]\n"
     ]
    }
   ],
   "source": [
    "print(np.sort(arr))\n",
    "print(np.sort(arr)[::-1])"
   ]
  },
  {
   "cell_type": "code",
   "execution_count": 7,
   "id": "74a2a856",
   "metadata": {},
   "outputs": [],
   "source": [
    "arr = np.sort(arr)\n",
    "arr.sort()"
   ]
  },
  {
   "cell_type": "code",
   "execution_count": 8,
   "id": "701ca310",
   "metadata": {},
   "outputs": [
    {
     "name": "stdout",
     "output_type": "stream",
     "text": [
      "[1 2 3 4 5 9 9 9 9 9]\n"
     ]
    }
   ],
   "source": [
    "print(arr)"
   ]
  },
  {
   "cell_type": "markdown",
   "id": "4a8224b1",
   "metadata": {},
   "source": [
    "4-2. 2차원 배열의 정렬"
   ]
  },
  {
   "cell_type": "code",
   "execution_count": 10,
   "id": "04855373",
   "metadata": {},
   "outputs": [
    {
     "name": "stdout",
     "output_type": "stream",
     "text": [
      "[[ 1 10 12 10]\n",
      " [ 2  0  4  8]\n",
      " [ 2  2 13 11]]\n"
     ]
    }
   ],
   "source": [
    "arr = np.random.randint(15, size=(3,4))\n",
    "print(arr)"
   ]
  },
  {
   "cell_type": "code",
   "execution_count": 14,
   "id": "7f660b91",
   "metadata": {},
   "outputs": [
    {
     "name": "stdout",
     "output_type": "stream",
     "text": [
      "[[ 1  0  4  8]\n",
      " [ 2  2 12 10]\n",
      " [ 2 10 13 11]]\n"
     ]
    }
   ],
   "source": [
    "print(np.sort((arr), axis=0))"
   ]
  },
  {
   "cell_type": "code",
   "execution_count": 15,
   "id": "c342f1f1",
   "metadata": {},
   "outputs": [
    {
     "name": "stdout",
     "output_type": "stream",
     "text": [
      "[ 0  1  2  2  2  4  8 10 10 11 12 13]\n"
     ]
    }
   ],
   "source": [
    "print(np.sort((arr), axis=None))"
   ]
  },
  {
   "cell_type": "code",
   "execution_count": 16,
   "id": "6a03ea46",
   "metadata": {},
   "outputs": [
    {
     "name": "stdout",
     "output_type": "stream",
     "text": [
      "[[ 1 10 10 12]\n",
      " [ 0  2  4  8]\n",
      " [ 2  2 11 13]]\n",
      "[[0 1 3 2]\n",
      " [1 0 2 3]\n",
      " [0 1 3 2]]\n"
     ]
    }
   ],
   "source": [
    "#argsort()\n",
    "print(np.sort((arr), axis=1))\n",
    "print(np.argsort((arr), axis=1))"
   ]
  },
  {
   "cell_type": "markdown",
   "id": "d2a758de",
   "metadata": {},
   "source": [
    "Section 5. N차원 배열의 형태 변경\n",
    "5-1. 배열의 형태 변경1:reshape()"
   ]
  },
  {
   "cell_type": "code",
   "execution_count": 17,
   "id": "08ec5703",
   "metadata": {},
   "outputs": [
    {
     "name": "stdout",
     "output_type": "stream",
     "text": [
      "[ 0  1  2  3  4  5  6  7  8  9 10 11] 1\n"
     ]
    }
   ],
   "source": [
    "arr = np.arange(12)\n",
    "print(arr, arr.ndim)"
   ]
  },
  {
   "cell_type": "code",
   "execution_count": 18,
   "id": "399d52e7",
   "metadata": {},
   "outputs": [],
   "source": [
    "arr = arr.reshape((3,4))"
   ]
  },
  {
   "cell_type": "markdown",
   "id": "e2eb292d",
   "metadata": {},
   "source": [
    "5-2. 배열의 형태 변경2:resize(), ravel()"
   ]
  },
  {
   "cell_type": "code",
   "execution_count": 19,
   "id": "00235795",
   "metadata": {},
   "outputs": [
    {
     "name": "stdout",
     "output_type": "stream",
     "text": [
      "[ 0  1  2  3  4  5  6  7  8  9 10 11]\n"
     ]
    }
   ],
   "source": [
    "arr = np.arange(12)\n",
    "print(arr)"
   ]
  },
  {
   "cell_type": "code",
   "execution_count": 21,
   "id": "1ca5bfd8",
   "metadata": {},
   "outputs": [
    {
     "name": "stdout",
     "output_type": "stream",
     "text": [
      "[[ 0  1  2  3]\n",
      " [ 4  5  6  7]\n",
      " [ 8  9 10 11]]\n",
      "[ 0  1  2  3  4  5  6  7  8  9 10 11]\n"
     ]
    }
   ],
   "source": [
    "arr.resize(3,4)\n",
    "print(arr)\n",
    "\n",
    "arr = arr.ravel()\n",
    "print(arr)"
   ]
  },
  {
   "cell_type": "code",
   "execution_count": 22,
   "id": "0f194a09",
   "metadata": {},
   "outputs": [
    {
     "name": "stdout",
     "output_type": "stream",
     "text": [
      "[ 1  2  3  4  5  6  7  8  9 10 11 12]\n",
      "[[ 1  2  3  4]\n",
      " [ 5  6  7  8]\n",
      " [ 9 10 11 12]]\n"
     ]
    }
   ],
   "source": [
    "arr = np.arange(1, 13)\n",
    "print(arr)\n",
    "\n",
    "arr = arr.reshape(3,-1)\n",
    "print(arr)"
   ]
  },
  {
   "cell_type": "code",
   "execution_count": 23,
   "id": "154612de",
   "metadata": {},
   "outputs": [
    {
     "name": "stdout",
     "output_type": "stream",
     "text": [
      "[[[ 1  2]\n",
      "  [ 3  4]]\n",
      "\n",
      " [[ 5  6]\n",
      "  [ 7  8]]\n",
      "\n",
      " [[ 9 10]\n",
      "  [11 12]]]\n"
     ]
    }
   ],
   "source": [
    "arr = arr.reshape(3, 2, -1)\n",
    "print(arr)"
   ]
  },
  {
   "cell_type": "markdown",
   "id": "19df94bf",
   "metadata": {},
   "source": [
    "5-3. 배열의 형태 변경3:expand_dims(), squeeze()"
   ]
  },
  {
   "cell_type": "code",
   "execution_count": 25,
   "id": "2be1a06a",
   "metadata": {},
   "outputs": [
    {
     "name": "stdout",
     "output_type": "stream",
     "text": [
      "[1 2] (2,)\n",
      "[[1 2]] (1, 2)\n"
     ]
    }
   ],
   "source": [
    "#expand_dims()\n",
    "arr = np.array([1, 2])\n",
    "print(arr,arr.shape)\n",
    "arr = np.expand_dims(arr, axis=0)\n",
    "print(arr, arr.shape)"
   ]
  },
  {
   "cell_type": "code",
   "execution_count": 27,
   "id": "7d245d41",
   "metadata": {},
   "outputs": [
    {
     "name": "stdout",
     "output_type": "stream",
     "text": [
      "[[1 2]] (1, 2) 2\n",
      "[1 2] (2,) 1\n"
     ]
    }
   ],
   "source": [
    "#squeeze()\n",
    "arr = np.array([[1, 2]])\n",
    "print(arr, arr.shape, arr.ndim)\n",
    "arr = np.squeeze(arr, axis=0)\n",
    "print(arr, arr.shape, arr.ndim)"
   ]
  },
  {
   "cell_type": "markdown",
   "id": "8ac597d6",
   "metadata": {},
   "source": [
    "5-4. 전치행렬"
   ]
  },
  {
   "cell_type": "code",
   "execution_count": 29,
   "id": "9e698a2a",
   "metadata": {},
   "outputs": [
    {
     "name": "stdout",
     "output_type": "stream",
     "text": [
      "[[1 3]\n",
      " [2 4]]\n",
      "[[1 4 7]\n",
      " [2 5 8]\n",
      " [3 6 9]]\n"
     ]
    }
   ],
   "source": [
    "arr = np.array([[1, 2],\n",
    "                [3, 4]])\n",
    "print(arr.T)\n",
    "\n",
    "arr = np.array([[1, 2, 3],\n",
    "                [4, 5, 6],\n",
    "                [7, 8, 9]])\n",
    "\n",
    "print(arr.T)"
   ]
  },
  {
   "cell_type": "markdown",
   "id": "2bfe89fa",
   "metadata": {},
   "source": [
    "Section 6. N차원 배열의 병합\n",
    "6-1. 배열에 원소 추가 및 삭제"
   ]
  },
  {
   "cell_type": "code",
   "execution_count": 31,
   "id": "4e826eb6",
   "metadata": {},
   "outputs": [
    {
     "name": "stdout",
     "output_type": "stream",
     "text": [
      "[1, 2, 50, 3, 4, 5, 6, 7, 8]\n",
      "[ 1  2 50  3  4  5  6  7  8]\n"
     ]
    }
   ],
   "source": [
    "#python list\n",
    "arr = [1, 2, 3, 4, 5, 6, 7, 8]\n",
    "arr.insert(2, 50)\n",
    "print(arr)\n",
    "\n",
    "#1차원 배열\n",
    "arr = np.arange(1, 9)\n",
    "arr = np.insert(arr, 2, 50)\n",
    "print(arr)"
   ]
  },
  {
   "cell_type": "code",
   "execution_count": 34,
   "id": "c11ad582",
   "metadata": {},
   "outputs": [
    {
     "name": "stdout",
     "output_type": "stream",
     "text": [
      "[[ 1  2  3  4]\n",
      " [ 5  6  7  8]\n",
      " [50 50 50 50]\n",
      " [ 9 10 11 12]]\n"
     ]
    }
   ],
   "source": [
    "#2차원 배열\n",
    "arr = np.arange(1, 13).reshape(3, 4)\n",
    "arr = np.insert(arr, 2, 50, axis=0)\n",
    "print(arr)"
   ]
  },
  {
   "cell_type": "code",
   "execution_count": 35,
   "id": "9e03c1ac",
   "metadata": {},
   "outputs": [
    {
     "name": "stdout",
     "output_type": "stream",
     "text": [
      "[[ 1  2  3  4]\n",
      " [ 5  6  7  8]\n",
      " [ 9 10 11 12]]\n",
      "[[1 2 3 4]\n",
      " [5 6 7 8]]\n"
     ]
    }
   ],
   "source": [
    "# delete()\n",
    "arr = np.arange(1, 13).reshape(3, 4)\n",
    "print(arr)\n",
    "\n",
    "arr = np.delete(arr, 2, axis=0)\n",
    "print(arr)"
   ]
  },
  {
   "cell_type": "markdown",
   "id": "5d1cd486",
   "metadata": {},
   "source": [
    "6-2. 배열 간의 병합"
   ]
  },
  {
   "cell_type": "code",
   "execution_count": 37,
   "id": "6630f890",
   "metadata": {},
   "outputs": [
    {
     "name": "stdout",
     "output_type": "stream",
     "text": [
      "[[ 1  2  3  4]\n",
      " [ 5  6  7  8]\n",
      " [ 9 10 11 12]]\n",
      "[[13 14 15 16]\n",
      " [17 18 19 20]\n",
      " [21 22 23 24]]\n",
      "\n",
      "[[ 1  2  3  4]\n",
      " [ 5  6  7  8]\n",
      " [ 9 10 11 12]\n",
      " [13 14 15 16]\n",
      " [17 18 19 20]\n",
      " [21 22 23 24]]\n"
     ]
    }
   ],
   "source": [
    "# append()\n",
    "arr1 = np.arange(1, 13).reshape(3, 4)\n",
    "arr2 = np.arange(13, 25).reshape(3, 4)\n",
    "\n",
    "print(arr1)\n",
    "print(arr2, end=\"\\n\\n\")\n",
    "\n",
    "#axis=0\n",
    "arr3 = np.append(arr1, arr2, axis=0)\n",
    "print(arr3)"
   ]
  },
  {
   "cell_type": "code",
   "execution_count": 40,
   "id": "d62570c1",
   "metadata": {},
   "outputs": [
    {
     "name": "stdout",
     "output_type": "stream",
     "text": [
      "[[ 1  2  3]\n",
      " [ 4  5  6]\n",
      " [ 7  8  9]\n",
      " [10 11 12]]\n",
      "[[ 1  2  3  7  8  9]\n",
      " [ 4  5  6 10 11 12]]\n"
     ]
    }
   ],
   "source": [
    "#vstack(), hstack()\n",
    "arr1 = np.arange(1, 7).reshape(2, 3)\n",
    "arr2 = np.arange(7, 13).reshape(2, 3)\n",
    "\n",
    "arr3 = np.vstack((arr1, arr2))\n",
    "print(arr3)\n",
    "\n",
    "arr3 = np.hstack((arr1, arr2))\n",
    "print(arr3)"
   ]
  },
  {
   "cell_type": "code",
   "execution_count": 44,
   "id": "e7d062e2",
   "metadata": {},
   "outputs": [
    {
     "name": "stdout",
     "output_type": "stream",
     "text": [
      "[[ 1  2  3  7  8  9]\n",
      " [ 4  5  6 10 11 12]]\n"
     ]
    }
   ],
   "source": [
    "#concatenate()\n",
    "arr1 = np.arange(1, 7).reshape(2, 3)\n",
    "arr2 = np.arange(7, 13).reshape(2, 3)\n",
    "\n",
    "arr3 = np.concatenate([arr1, arr2], axis=1)\n",
    "print(arr3)"
   ]
  },
  {
   "cell_type": "markdown",
   "id": "a69b14d7",
   "metadata": {},
   "source": [
    "6-2. 배열 분할"
   ]
  },
  {
   "cell_type": "code",
   "execution_count": 53,
   "id": "1a18f4c9",
   "metadata": {},
   "outputs": [
    {
     "name": "stdout",
     "output_type": "stream",
     "text": [
      "[[ 1  2  3  4]\n",
      " [ 5  6  7  8]\n",
      " [ 9 10 11 12]]\n",
      "\n",
      "[array([[1, 2, 3, 4]]), array([[5, 6, 7, 8]]), array([[ 9, 10, 11, 12]])]\n",
      "\n",
      "[array([[ 1,  2],\n",
      "       [ 5,  6],\n",
      "       [ 9, 10]]), array([[ 3,  4],\n",
      "       [ 7,  8],\n",
      "       [11, 12]])]\n",
      "\n"
     ]
    }
   ],
   "source": [
    "# 2차원 배열\n",
    "arr = np.arange(1, 13).reshape(3, 4)\n",
    "print(arr, end=\"\\n\\n\")\n",
    "\n",
    "#vsplit() =>axis=0\n",
    "arr_vsplit = np.vsplit(arr,3)\n",
    "print(arr_vsplit, end=\"\\n\\n\")\n",
    "\n",
    "#hsplit() =>axis=1\n",
    "arr_hsplit = np.hsplit(arr,2)\n",
    "print(arr_hsplit, end=\"\\n\\n\")"
   ]
  },
  {
   "cell_type": "code",
   "execution_count": 56,
   "id": "6ab2698e",
   "metadata": {},
   "outputs": [
    {
     "name": "stdout",
     "output_type": "stream",
     "text": [
      "[[[7 2 3 2 9 3 4 1]\n",
      "  [4 1 0 3 5 2 4 9]\n",
      "  [9 3 4 8 6 8 0 9]\n",
      "  [9 7 3 1 5 5 7 8]\n",
      "  [5 0 7 7 1 7 1 9]\n",
      "  [5 0 6 0 8 1 0 1]]\n",
      "\n",
      " [[0 0 9 2 5 6 5 0]\n",
      "  [0 1 8 3 7 2 2 5]\n",
      "  [7 5 7 4 3 5 6 5]\n",
      "  [4 7 8 9 4 5 2 7]\n",
      "  [4 2 7 5 2 6 4 2]\n",
      "  [1 0 8 6 0 3 4 4]]\n",
      "\n",
      " [[5 7 6 3 6 2 5 4]\n",
      "  [0 5 9 4 1 1 4 9]\n",
      "  [2 2 0 7 2 4 1 2]\n",
      "  [6 8 7 1 8 3 4 7]\n",
      "  [2 4 7 0 5 7 1 9]\n",
      "  [0 1 1 2 0 7 8 7]]\n",
      "\n",
      " [[0 1 2 5 7 2 7 7]\n",
      "  [3 8 9 8 9 3 8 8]\n",
      "  [3 1 8 1 0 8 1 2]\n",
      "  [6 4 0 9 3 7 1 0]\n",
      "  [5 5 0 1 3 3 6 7]\n",
      "  [5 1 4 6 3 3 8 6]]]\n",
      "\n"
     ]
    }
   ],
   "source": [
    "# 3차원 배열\n",
    "arr = np.random.randint(0, 10, (4, 6, 8))\n",
    "print(arr)"
   ]
  },
  {
   "cell_type": "code",
   "execution_count": 57,
   "id": "f806d89e",
   "metadata": {},
   "outputs": [
    {
     "name": "stdout",
     "output_type": "stream",
     "text": [
      "[array([[[7, 2, 3, 2, 9, 3, 4, 1],\n",
      "        [4, 1, 0, 3, 5, 2, 4, 9],\n",
      "        [9, 3, 4, 8, 6, 8, 0, 9],\n",
      "        [9, 7, 3, 1, 5, 5, 7, 8],\n",
      "        [5, 0, 7, 7, 1, 7, 1, 9],\n",
      "        [5, 0, 6, 0, 8, 1, 0, 1]],\n",
      "\n",
      "       [[0, 0, 9, 2, 5, 6, 5, 0],\n",
      "        [0, 1, 8, 3, 7, 2, 2, 5],\n",
      "        [7, 5, 7, 4, 3, 5, 6, 5],\n",
      "        [4, 7, 8, 9, 4, 5, 2, 7],\n",
      "        [4, 2, 7, 5, 2, 6, 4, 2],\n",
      "        [1, 0, 8, 6, 0, 3, 4, 4]]]), array([[[5, 7, 6, 3, 6, 2, 5, 4],\n",
      "        [0, 5, 9, 4, 1, 1, 4, 9],\n",
      "        [2, 2, 0, 7, 2, 4, 1, 2],\n",
      "        [6, 8, 7, 1, 8, 3, 4, 7],\n",
      "        [2, 4, 7, 0, 5, 7, 1, 9],\n",
      "        [0, 1, 1, 2, 0, 7, 8, 7]],\n",
      "\n",
      "       [[0, 1, 2, 5, 7, 2, 7, 7],\n",
      "        [3, 8, 9, 8, 9, 3, 8, 8],\n",
      "        [3, 1, 8, 1, 0, 8, 1, 2],\n",
      "        [6, 4, 0, 9, 3, 7, 1, 0],\n",
      "        [5, 5, 0, 1, 3, 3, 6, 7],\n",
      "        [5, 1, 4, 6, 3, 3, 8, 6]]])]\n"
     ]
    }
   ],
   "source": [
    "arr_vsplit = np.vsplit(arr,2)\n",
    "print(arr_vsplit)"
   ]
  },
  {
   "cell_type": "code",
   "execution_count": null,
   "id": "24dd3f56",
   "metadata": {},
   "outputs": [],
   "source": []
  }
 ],
 "metadata": {
  "kernelspec": {
   "display_name": "Python 3 (ipykernel)",
   "language": "python",
   "name": "python3"
  },
  "language_info": {
   "codemirror_mode": {
    "name": "ipython",
    "version": 3
   },
   "file_extension": ".py",
   "mimetype": "text/x-python",
   "name": "python",
   "nbconvert_exporter": "python",
   "pygments_lexer": "ipython3",
   "version": "3.9.12"
  }
 },
 "nbformat": 4,
 "nbformat_minor": 5
}
