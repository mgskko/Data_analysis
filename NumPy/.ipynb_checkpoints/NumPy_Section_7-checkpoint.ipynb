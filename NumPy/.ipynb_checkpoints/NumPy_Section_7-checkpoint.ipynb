{
 "cells": [
  {
   "cell_type": "code",
   "execution_count": 1,
   "id": "163c63da",
   "metadata": {},
   "outputs": [],
   "source": [
    "import numpy as np"
   ]
  },
  {
   "cell_type": "markdown",
   "id": "83ca610b",
   "metadata": {},
   "source": [
    "예제1 원소가 모두 3인(3, 4, 5)형태의 numpy.array를 출력하시오"
   ]
  },
  {
   "cell_type": "code",
   "execution_count": 5,
   "id": "40b4012d",
   "metadata": {},
   "outputs": [
    {
     "name": "stdout",
     "output_type": "stream",
     "text": [
      "[[[3 3 3 3 3]\n",
      "  [3 3 3 3 3]\n",
      "  [3 3 3 3 3]\n",
      "  [3 3 3 3 3]]\n",
      "\n",
      " [[3 3 3 3 3]\n",
      "  [3 3 3 3 3]\n",
      "  [3 3 3 3 3]\n",
      "  [3 3 3 3 3]]\n",
      "\n",
      " [[3 3 3 3 3]\n",
      "  [3 3 3 3 3]\n",
      "  [3 3 3 3 3]\n",
      "  [3 3 3 3 3]]]\n"
     ]
    }
   ],
   "source": [
    "arr = np.full([3, 4, 5], 3)\n",
    "print(arr)"
   ]
  },
  {
   "cell_type": "markdown",
   "id": "182b8017",
   "metadata": {},
   "source": [
    "에제2 정수 -50~50의 범위 안의 난수로 이루어진 (4,5)형태의 numpy.array를 출력하고 행을 기준으로 오름차순 정렬한 전체 배열을 1차원 배열로 변경하여 오름차순 정렬한 결과를 출력하시오."
   ]
  },
  {
   "cell_type": "code",
   "execution_count": 9,
   "id": "769e4d5c",
   "metadata": {},
   "outputs": [
    {
     "name": "stdout",
     "output_type": "stream",
     "text": [
      "[[-46 -13  11  33  47]\n",
      " [-19 -15  -2   7  22]\n",
      " [-31  -8  11  22  35]\n",
      " [-43 -35 -27  12  28]]\n",
      "[-46 -43 -35 -31 -27 -19 -15 -13  -8  -2   7  11  11  12  22  22  28  33\n",
      "  35  47]\n"
     ]
    }
   ],
   "source": [
    "arr = np.random.randint(-50, 50, (4,5))\n",
    "print(np.sort(arr, axis=1))\n",
    "print(np.sort(arr, axis=None))"
   ]
  },
  {
   "cell_type": "code",
   "execution_count": 10,
   "id": "31313719",
   "metadata": {},
   "outputs": [
    {
     "name": "stdout",
     "output_type": "stream",
     "text": [
      "[array([8, 8, 8]), array([ 33, -15,  26]), array([17. , 21.5, 26. ])]\n"
     ]
    }
   ],
   "source": [
    "py_list = [\n",
    "    np.full(3, 8),\n",
    "    np.array([33, -15, 26]),\n",
    "    np.linspace(17, 26, 3)\n",
    "]\n",
    "print(py_list)"
   ]
  },
  {
   "cell_type": "markdown",
   "id": "68dece19",
   "metadata": {},
   "source": [
    "예제3 다음과 같은 파이썬 list가 존재한다. list안에 있는 각 numpy.array의 원소들의 평균값과 표준편차, 중앙값을 순서대로 구하여 구한 순서대로 원소가 이루어진 새로운list를 구성하고 출력하시오.\n",
    " 예시 : 각 배열의 평균값이 3.0,4.0,5.0이고 표준편차가 1.5,1.7,1.9이며 중앙값이 1.0,2.0,3.0이라면 배열로 구성하여 [3.0,4.0,5.0,1.5,1.7,1.9,1.0,2.0,3.0]으로 출력한다."
   ]
  },
  {
   "cell_type": "code",
   "execution_count": 13,
   "id": "676fe0e1",
   "metadata": {},
   "outputs": [
    {
     "name": "stdout",
     "output_type": "stream",
     "text": [
      "[8.0, 0.0, 8.0, 14.666666666666666, 21.171259344267224, 26.0, 21.5, 3.6742346141747673, 21.5]\n"
     ]
    }
   ],
   "source": [
    "result = []\n",
    "for i in py_list:\n",
    "    result.append(np.mean(i))\n",
    "    result.append(np.std(i))\n",
    "    result.append(np.median(i))\n",
    "print(result)"
   ]
  },
  {
   "cell_type": "code",
   "execution_count": 15,
   "id": "cde90e50",
   "metadata": {},
   "outputs": [],
   "source": [
    "arr = np.arange(2, 20, 2).reshape((3, 3))"
   ]
  },
  {
   "cell_type": "code",
   "execution_count": 16,
   "id": "1729f5e8",
   "metadata": {},
   "outputs": [
    {
     "name": "stdout",
     "output_type": "stream",
     "text": [
      "[[ 2  4  6]\n",
      " [ 8 10 12]\n",
      " [14 16 18]]\n"
     ]
    }
   ],
   "source": [
    "print(arr)"
   ]
  },
  {
   "cell_type": "markdown",
   "id": "f8f0200f",
   "metadata": {},
   "source": [
    "예제4 다음과 같은 np.array가 존재한다. 이 배열을 행을 기준으로 3개의 배열로 분할하여 분할된 각 배열의 원소들을 제곱한 결과를 다시 원본 배열에 행을 기준으로 병합하시오."
   ]
  },
  {
   "cell_type": "code",
   "execution_count": 22,
   "id": "b95556ec",
   "metadata": {},
   "outputs": [
    {
     "name": "stdout",
     "output_type": "stream",
     "text": [
      "[array([[2, 4, 6]]), array([[ 8, 10, 12]]), array([[14, 16, 18]])]\n",
      "[[[  4  16  36]]\n",
      "\n",
      " [[ 64 100 144]]\n",
      "\n",
      " [[196 256 324]]]\n",
      "[[  4  16  36]\n",
      " [ 64 100 144]\n",
      " [196 256 324]]\n",
      "[[  2   4   6]\n",
      " [  8  10  12]\n",
      " [ 14  16  18]\n",
      " [  4  16  36]\n",
      " [ 64 100 144]\n",
      " [196 256 324]]\n"
     ]
    }
   ],
   "source": [
    "arr_vsplit = np.vsplit(arr,3)\n",
    "print(arr_vsplit)\n",
    "s2 = np.square(arr_vsplit)\n",
    "print(s2)\n",
    "s3 = np.squeeze(s2,axis = 1)\n",
    "print(s3)\n",
    "result = np.vstack((arr, s3))\n",
    "print(result)"
   ]
  },
  {
   "cell_type": "code",
   "execution_count": null,
   "id": "3466a613",
   "metadata": {},
   "outputs": [],
   "source": []
  }
 ],
 "metadata": {
  "kernelspec": {
   "display_name": "Python 3 (ipykernel)",
   "language": "python",
   "name": "python3"
  },
  "language_info": {
   "codemirror_mode": {
    "name": "ipython",
    "version": 3
   },
   "file_extension": ".py",
   "mimetype": "text/x-python",
   "name": "python",
   "nbconvert_exporter": "python",
   "pygments_lexer": "ipython3",
   "version": "3.9.12"
  }
 },
 "nbformat": 4,
 "nbformat_minor": 5
}
